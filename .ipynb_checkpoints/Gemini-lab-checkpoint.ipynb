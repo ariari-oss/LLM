{
 "cells": [
  {
   "cell_type": "code",
   "execution_count": 9,
   "metadata": {},
   "outputs": [
    {
     "name": "stdout",
     "output_type": "stream",
     "text": [
      "Requirement already satisfied: python-dotenv in /Users/kawasakiarisa/.pyenv/versions/3.10.6/lib/python3.10/site-packages (1.0.1)\n",
      "Requirement already satisfied: google-generativeai in /Users/kawasakiarisa/.pyenv/versions/3.10.6/lib/python3.10/site-packages (0.4.1)\n",
      "Requirement already satisfied: google-ai-generativelanguage==0.4.0 in /Users/kawasakiarisa/.pyenv/versions/3.10.6/lib/python3.10/site-packages (from google-generativeai) (0.4.0)\n",
      "Requirement already satisfied: google-auth>=2.15.0 in /Users/kawasakiarisa/.pyenv/versions/3.10.6/lib/python3.10/site-packages (from google-generativeai) (2.28.2)\n",
      "Requirement already satisfied: google-api-core in /Users/kawasakiarisa/.pyenv/versions/3.10.6/lib/python3.10/site-packages (from google-generativeai) (2.17.1)\n",
      "Requirement already satisfied: protobuf in /Users/kawasakiarisa/.pyenv/versions/3.10.6/lib/python3.10/site-packages (from google-generativeai) (4.24.4)\n",
      "Requirement already satisfied: pydantic in /Users/kawasakiarisa/.pyenv/versions/3.10.6/lib/python3.10/site-packages (from google-generativeai) (2.6.1)\n",
      "Requirement already satisfied: tqdm in /Users/kawasakiarisa/.pyenv/versions/3.10.6/lib/python3.10/site-packages (from google-generativeai) (4.66.1)\n",
      "Requirement already satisfied: typing-extensions in /Users/kawasakiarisa/.pyenv/versions/3.10.6/lib/python3.10/site-packages (from google-generativeai) (4.8.0)\n",
      "Requirement already satisfied: proto-plus<2.0.0dev,>=1.22.3 in /Users/kawasakiarisa/.pyenv/versions/3.10.6/lib/python3.10/site-packages (from google-ai-generativelanguage==0.4.0->google-generativeai) (1.23.0)\n",
      "Requirement already satisfied: googleapis-common-protos<2.0.dev0,>=1.56.2 in /Users/kawasakiarisa/.pyenv/versions/3.10.6/lib/python3.10/site-packages (from google-api-core->google-generativeai) (1.63.0)\n",
      "Requirement already satisfied: requests<3.0.0.dev0,>=2.18.0 in /Users/kawasakiarisa/.pyenv/versions/3.10.6/lib/python3.10/site-packages (from google-api-core->google-generativeai) (2.31.0)\n",
      "Requirement already satisfied: cachetools<6.0,>=2.0.0 in /Users/kawasakiarisa/.pyenv/versions/3.10.6/lib/python3.10/site-packages (from google-auth>=2.15.0->google-generativeai) (5.3.1)\n",
      "Requirement already satisfied: pyasn1-modules>=0.2.1 in /Users/kawasakiarisa/.pyenv/versions/3.10.6/lib/python3.10/site-packages (from google-auth>=2.15.0->google-generativeai) (0.3.0)\n",
      "Requirement already satisfied: rsa<5,>=3.1.4 in /Users/kawasakiarisa/.pyenv/versions/3.10.6/lib/python3.10/site-packages (from google-auth>=2.15.0->google-generativeai) (4.9)\n",
      "Requirement already satisfied: annotated-types>=0.4.0 in /Users/kawasakiarisa/.pyenv/versions/3.10.6/lib/python3.10/site-packages (from pydantic->google-generativeai) (0.6.0)\n",
      "Requirement already satisfied: pydantic-core==2.16.2 in /Users/kawasakiarisa/.pyenv/versions/3.10.6/lib/python3.10/site-packages (from pydantic->google-generativeai) (2.16.2)\n",
      "Requirement already satisfied: grpcio<2.0dev,>=1.33.2 in /Users/kawasakiarisa/.pyenv/versions/3.10.6/lib/python3.10/site-packages (from google-api-core[grpc]!=2.0.*,!=2.1.*,!=2.10.*,!=2.2.*,!=2.3.*,!=2.4.*,!=2.5.*,!=2.6.*,!=2.7.*,!=2.8.*,!=2.9.*,<3.0.0dev,>=1.34.0->google-ai-generativelanguage==0.4.0->google-generativeai) (1.62.1)\n",
      "Requirement already satisfied: grpcio-status<2.0.dev0,>=1.33.2 in /Users/kawasakiarisa/.pyenv/versions/3.10.6/lib/python3.10/site-packages (from google-api-core[grpc]!=2.0.*,!=2.1.*,!=2.10.*,!=2.2.*,!=2.3.*,!=2.4.*,!=2.5.*,!=2.6.*,!=2.7.*,!=2.8.*,!=2.9.*,<3.0.0dev,>=1.34.0->google-ai-generativelanguage==0.4.0->google-generativeai) (1.62.1)\n",
      "Requirement already satisfied: pyasn1<0.6.0,>=0.4.6 in /Users/kawasakiarisa/.pyenv/versions/3.10.6/lib/python3.10/site-packages (from pyasn1-modules>=0.2.1->google-auth>=2.15.0->google-generativeai) (0.5.1)\n",
      "Requirement already satisfied: charset-normalizer<4,>=2 in /Users/kawasakiarisa/.pyenv/versions/3.10.6/lib/python3.10/site-packages (from requests<3.0.0.dev0,>=2.18.0->google-api-core->google-generativeai) (3.3.0)\n",
      "Requirement already satisfied: idna<4,>=2.5 in /Users/kawasakiarisa/.pyenv/versions/3.10.6/lib/python3.10/site-packages (from requests<3.0.0.dev0,>=2.18.0->google-api-core->google-generativeai) (3.4)\n",
      "Requirement already satisfied: urllib3<3,>=1.21.1 in /Users/kawasakiarisa/.pyenv/versions/3.10.6/lib/python3.10/site-packages (from requests<3.0.0.dev0,>=2.18.0->google-api-core->google-generativeai) (2.0.6)\n",
      "Requirement already satisfied: certifi>=2017.4.17 in /Users/kawasakiarisa/.pyenv/versions/3.10.6/lib/python3.10/site-packages (from requests<3.0.0.dev0,>=2.18.0->google-api-core->google-generativeai) (2023.7.22)\n"
     ]
    }
   ],
   "source": [
    "!pip install python-dotenv\n",
    "!pip install google-generativeai"
   ]
  },
  {
   "cell_type": "code",
   "execution_count": 2,
   "metadata": {},
   "outputs": [],
   "source": [
    "import os \n",
    "\n",
    "from dotenv import load_dotenv\n",
    "\n",
    "import google.generativeai as genai"
   ]
  },
  {
   "cell_type": "code",
   "execution_count": 4,
   "metadata": {},
   "outputs": [
    {
     "data": {
      "text/plain": [
       "True"
      ]
     },
     "execution_count": 4,
     "metadata": {},
     "output_type": "execute_result"
    }
   ],
   "source": [
    "#dot（隠し）env（ファイル）とは隠しファイルのこと、今は隠しファイルがないためファルスと出る→ターミナルで作成後はtrueとなる\n",
    "load_dotenv()\n"
   ]
  },
  {
   "cell_type": "code",
   "execution_count": null,
   "metadata": {},
   "outputs": [],
   "source": [
    "#隠しファイルに保存したAPIKEYを持ってくる(KEYは機密情報のため削除済み)\n",
    "os.getenv('GOOGL_API_KEY')\n"
   ]
  },
  {
   "cell_type": "code",
   "execution_count": null,
   "metadata": {},
   "outputs": [],
   "source": [
    "os.environ['GOOGL_API_KEY']"
   ]
  },
  {
   "cell_type": "code",
   "execution_count": 17,
   "metadata": {},
   "outputs": [
    {
     "ename": "DefaultCredentialsError",
     "evalue": "Your default credentials were not found. To set up Application Default Credentials, see https://cloud.google.com/docs/authentication/external/set-up-adc for more information.",
     "output_type": "error",
     "traceback": [
      "\u001b[0;31m---------------------------------------------------------------------------\u001b[0m",
      "\u001b[0;31mDefaultCredentialsError\u001b[0m                   Traceback (most recent call last)",
      "Cell \u001b[0;32mIn[17], line 7\u001b[0m\n\u001b[1;32m      1\u001b[0m \u001b[38;5;66;03m#使用できるモデルを表示\u001b[39;00m\n\u001b[1;32m      2\u001b[0m \u001b[38;5;66;03m#for m in genai.list_models():\u001b[39;00m\n\u001b[1;32m      3\u001b[0m \n\u001b[1;32m      4\u001b[0m     \u001b[38;5;66;03m#if 'generateContent' in m.supported_generation_methods:\u001b[39;00m\n\u001b[1;32m      5\u001b[0m      \u001b[38;5;66;03m#   print(m.name)\u001b[39;00m\n\u001b[1;32m      6\u001b[0m \u001b[38;5;66;03m#使用できるモデルを表示\u001b[39;00m\n\u001b[0;32m----> 7\u001b[0m \u001b[38;5;28;01mfor\u001b[39;00m m \u001b[38;5;129;01min\u001b[39;00m genai\u001b[38;5;241m.\u001b[39mlist_models():\n\u001b[1;32m      8\u001b[0m   \u001b[38;5;28;01mif\u001b[39;00m \u001b[38;5;124m'\u001b[39m\u001b[38;5;124mgenerateContent\u001b[39m\u001b[38;5;124m'\u001b[39m \u001b[38;5;129;01min\u001b[39;00m m\u001b[38;5;241m.\u001b[39msupported_generation_methods:\n\u001b[1;32m      9\u001b[0m     \u001b[38;5;28mprint\u001b[39m(m\u001b[38;5;241m.\u001b[39mname)\n",
      "File \u001b[0;32m~/.pyenv/versions/3.10.6/lib/python3.10/site-packages/google/generativeai/models.py:188\u001b[0m, in \u001b[0;36mlist_models\u001b[0;34m(page_size, client, request_options)\u001b[0m\n\u001b[1;32m    185\u001b[0m     request_options \u001b[38;5;241m=\u001b[39m {}\n\u001b[1;32m    187\u001b[0m \u001b[38;5;28;01mif\u001b[39;00m client \u001b[38;5;129;01mis\u001b[39;00m \u001b[38;5;28;01mNone\u001b[39;00m:\n\u001b[0;32m--> 188\u001b[0m     client \u001b[38;5;241m=\u001b[39m \u001b[43mget_default_model_client\u001b[49m\u001b[43m(\u001b[49m\u001b[43m)\u001b[49m\n\u001b[1;32m    190\u001b[0m \u001b[38;5;28;01mfor\u001b[39;00m model \u001b[38;5;129;01min\u001b[39;00m client\u001b[38;5;241m.\u001b[39mlist_models(page_size\u001b[38;5;241m=\u001b[39mpage_size, \u001b[38;5;241m*\u001b[39m\u001b[38;5;241m*\u001b[39mrequest_options):\n\u001b[1;32m    191\u001b[0m     model \u001b[38;5;241m=\u001b[39m \u001b[38;5;28mtype\u001b[39m(model)\u001b[38;5;241m.\u001b[39mto_dict(model)\n",
      "File \u001b[0;32m~/.pyenv/versions/3.10.6/lib/python3.10/site-packages/google/generativeai/client.py:245\u001b[0m, in \u001b[0;36mget_default_model_client\u001b[0;34m()\u001b[0m\n\u001b[1;32m    244\u001b[0m \u001b[38;5;28;01mdef\u001b[39;00m \u001b[38;5;21mget_default_model_client\u001b[39m() \u001b[38;5;241m-\u001b[39m\u001b[38;5;241m>\u001b[39m glm\u001b[38;5;241m.\u001b[39mModelServiceAsyncClient:\n\u001b[0;32m--> 245\u001b[0m     \u001b[38;5;28;01mreturn\u001b[39;00m \u001b[43m_client_manager\u001b[49m\u001b[38;5;241;43m.\u001b[39;49m\u001b[43mget_default_client\u001b[49m\u001b[43m(\u001b[49m\u001b[38;5;124;43m\"\u001b[39;49m\u001b[38;5;124;43mmodel\u001b[39;49m\u001b[38;5;124;43m\"\u001b[39;49m\u001b[43m)\u001b[49m\n",
      "File \u001b[0;32m~/.pyenv/versions/3.10.6/lib/python3.10/site-packages/google/generativeai/client.py:161\u001b[0m, in \u001b[0;36m_ClientManager.get_default_client\u001b[0;34m(self, name)\u001b[0m\n\u001b[1;32m    159\u001b[0m client \u001b[38;5;241m=\u001b[39m \u001b[38;5;28mself\u001b[39m\u001b[38;5;241m.\u001b[39mclients\u001b[38;5;241m.\u001b[39mget(name)\n\u001b[1;32m    160\u001b[0m \u001b[38;5;28;01mif\u001b[39;00m client \u001b[38;5;129;01mis\u001b[39;00m \u001b[38;5;28;01mNone\u001b[39;00m:\n\u001b[0;32m--> 161\u001b[0m     client \u001b[38;5;241m=\u001b[39m \u001b[38;5;28;43mself\u001b[39;49m\u001b[38;5;241;43m.\u001b[39;49m\u001b[43mmake_client\u001b[49m\u001b[43m(\u001b[49m\u001b[43mname\u001b[49m\u001b[43m)\u001b[49m\n\u001b[1;32m    162\u001b[0m     \u001b[38;5;28mself\u001b[39m\u001b[38;5;241m.\u001b[39mclients[name] \u001b[38;5;241m=\u001b[39m client\n\u001b[1;32m    163\u001b[0m \u001b[38;5;28;01mreturn\u001b[39;00m client\n",
      "File \u001b[0;32m~/.pyenv/versions/3.10.6/lib/python3.10/site-packages/google/generativeai/client.py:121\u001b[0m, in \u001b[0;36m_ClientManager.make_client\u001b[0;34m(self, name)\u001b[0m\n\u001b[1;32m    118\u001b[0m \u001b[38;5;28;01mif\u001b[39;00m \u001b[38;5;129;01mnot\u001b[39;00m \u001b[38;5;28mself\u001b[39m\u001b[38;5;241m.\u001b[39mclient_config:\n\u001b[1;32m    119\u001b[0m     configure()\n\u001b[0;32m--> 121\u001b[0m client \u001b[38;5;241m=\u001b[39m \u001b[38;5;28;43mcls\u001b[39;49m\u001b[43m(\u001b[49m\u001b[38;5;241;43m*\u001b[39;49m\u001b[38;5;241;43m*\u001b[39;49m\u001b[38;5;28;43mself\u001b[39;49m\u001b[38;5;241;43m.\u001b[39;49m\u001b[43mclient_config\u001b[49m\u001b[43m)\u001b[49m\n\u001b[1;32m    123\u001b[0m \u001b[38;5;28;01mif\u001b[39;00m \u001b[38;5;129;01mnot\u001b[39;00m \u001b[38;5;28mself\u001b[39m\u001b[38;5;241m.\u001b[39mdefault_metadata:\n\u001b[1;32m    124\u001b[0m     \u001b[38;5;28;01mreturn\u001b[39;00m client\n",
      "File \u001b[0;32m~/.pyenv/versions/3.10.6/lib/python3.10/site-packages/google/ai/generativelanguage_v1beta/services/model_service/client.py:450\u001b[0m, in \u001b[0;36mModelServiceClient.__init__\u001b[0;34m(self, credentials, transport, client_options, client_info)\u001b[0m\n\u001b[1;32m    445\u001b[0m     credentials \u001b[38;5;241m=\u001b[39m google\u001b[38;5;241m.\u001b[39mauth\u001b[38;5;241m.\u001b[39m_default\u001b[38;5;241m.\u001b[39mget_api_key_credentials(\n\u001b[1;32m    446\u001b[0m         api_key_value\n\u001b[1;32m    447\u001b[0m     )\n\u001b[1;32m    449\u001b[0m Transport \u001b[38;5;241m=\u001b[39m \u001b[38;5;28mtype\u001b[39m(\u001b[38;5;28mself\u001b[39m)\u001b[38;5;241m.\u001b[39mget_transport_class(transport)\n\u001b[0;32m--> 450\u001b[0m \u001b[38;5;28mself\u001b[39m\u001b[38;5;241m.\u001b[39m_transport \u001b[38;5;241m=\u001b[39m \u001b[43mTransport\u001b[49m\u001b[43m(\u001b[49m\n\u001b[1;32m    451\u001b[0m \u001b[43m    \u001b[49m\u001b[43mcredentials\u001b[49m\u001b[38;5;241;43m=\u001b[39;49m\u001b[43mcredentials\u001b[49m\u001b[43m,\u001b[49m\n\u001b[1;32m    452\u001b[0m \u001b[43m    \u001b[49m\u001b[43mcredentials_file\u001b[49m\u001b[38;5;241;43m=\u001b[39;49m\u001b[43mclient_options\u001b[49m\u001b[38;5;241;43m.\u001b[39;49m\u001b[43mcredentials_file\u001b[49m\u001b[43m,\u001b[49m\n\u001b[1;32m    453\u001b[0m \u001b[43m    \u001b[49m\u001b[43mhost\u001b[49m\u001b[38;5;241;43m=\u001b[39;49m\u001b[43mapi_endpoint\u001b[49m\u001b[43m,\u001b[49m\n\u001b[1;32m    454\u001b[0m \u001b[43m    \u001b[49m\u001b[43mscopes\u001b[49m\u001b[38;5;241;43m=\u001b[39;49m\u001b[43mclient_options\u001b[49m\u001b[38;5;241;43m.\u001b[39;49m\u001b[43mscopes\u001b[49m\u001b[43m,\u001b[49m\n\u001b[1;32m    455\u001b[0m \u001b[43m    \u001b[49m\u001b[43mclient_cert_source_for_mtls\u001b[49m\u001b[38;5;241;43m=\u001b[39;49m\u001b[43mclient_cert_source_func\u001b[49m\u001b[43m,\u001b[49m\n\u001b[1;32m    456\u001b[0m \u001b[43m    \u001b[49m\u001b[43mquota_project_id\u001b[49m\u001b[38;5;241;43m=\u001b[39;49m\u001b[43mclient_options\u001b[49m\u001b[38;5;241;43m.\u001b[39;49m\u001b[43mquota_project_id\u001b[49m\u001b[43m,\u001b[49m\n\u001b[1;32m    457\u001b[0m \u001b[43m    \u001b[49m\u001b[43mclient_info\u001b[49m\u001b[38;5;241;43m=\u001b[39;49m\u001b[43mclient_info\u001b[49m\u001b[43m,\u001b[49m\n\u001b[1;32m    458\u001b[0m \u001b[43m    \u001b[49m\u001b[43malways_use_jwt_access\u001b[49m\u001b[38;5;241;43m=\u001b[39;49m\u001b[38;5;28;43;01mTrue\u001b[39;49;00m\u001b[43m,\u001b[49m\n\u001b[1;32m    459\u001b[0m \u001b[43m    \u001b[49m\u001b[43mapi_audience\u001b[49m\u001b[38;5;241;43m=\u001b[39;49m\u001b[43mclient_options\u001b[49m\u001b[38;5;241;43m.\u001b[39;49m\u001b[43mapi_audience\u001b[49m\u001b[43m,\u001b[49m\n\u001b[1;32m    460\u001b[0m \u001b[43m\u001b[49m\u001b[43m)\u001b[49m\n",
      "File \u001b[0;32m~/.pyenv/versions/3.10.6/lib/python3.10/site-packages/google/ai/generativelanguage_v1beta/services/model_service/transports/grpc.py:154\u001b[0m, in \u001b[0;36mModelServiceGrpcTransport.__init__\u001b[0;34m(self, host, credentials, credentials_file, scopes, channel, api_mtls_endpoint, client_cert_source, ssl_channel_credentials, client_cert_source_for_mtls, quota_project_id, client_info, always_use_jwt_access, api_audience)\u001b[0m\n\u001b[1;32m    149\u001b[0m             \u001b[38;5;28mself\u001b[39m\u001b[38;5;241m.\u001b[39m_ssl_channel_credentials \u001b[38;5;241m=\u001b[39m grpc\u001b[38;5;241m.\u001b[39mssl_channel_credentials(\n\u001b[1;32m    150\u001b[0m                 certificate_chain\u001b[38;5;241m=\u001b[39mcert, private_key\u001b[38;5;241m=\u001b[39mkey\n\u001b[1;32m    151\u001b[0m             )\n\u001b[1;32m    153\u001b[0m \u001b[38;5;66;03m# The base transport sets the host, credentials and scopes\u001b[39;00m\n\u001b[0;32m--> 154\u001b[0m \u001b[38;5;28;43msuper\u001b[39;49m\u001b[43m(\u001b[49m\u001b[43m)\u001b[49m\u001b[38;5;241;43m.\u001b[39;49m\u001b[38;5;21;43m__init__\u001b[39;49m\u001b[43m(\u001b[49m\n\u001b[1;32m    155\u001b[0m \u001b[43m    \u001b[49m\u001b[43mhost\u001b[49m\u001b[38;5;241;43m=\u001b[39;49m\u001b[43mhost\u001b[49m\u001b[43m,\u001b[49m\n\u001b[1;32m    156\u001b[0m \u001b[43m    \u001b[49m\u001b[43mcredentials\u001b[49m\u001b[38;5;241;43m=\u001b[39;49m\u001b[43mcredentials\u001b[49m\u001b[43m,\u001b[49m\n\u001b[1;32m    157\u001b[0m \u001b[43m    \u001b[49m\u001b[43mcredentials_file\u001b[49m\u001b[38;5;241;43m=\u001b[39;49m\u001b[43mcredentials_file\u001b[49m\u001b[43m,\u001b[49m\n\u001b[1;32m    158\u001b[0m \u001b[43m    \u001b[49m\u001b[43mscopes\u001b[49m\u001b[38;5;241;43m=\u001b[39;49m\u001b[43mscopes\u001b[49m\u001b[43m,\u001b[49m\n\u001b[1;32m    159\u001b[0m \u001b[43m    \u001b[49m\u001b[43mquota_project_id\u001b[49m\u001b[38;5;241;43m=\u001b[39;49m\u001b[43mquota_project_id\u001b[49m\u001b[43m,\u001b[49m\n\u001b[1;32m    160\u001b[0m \u001b[43m    \u001b[49m\u001b[43mclient_info\u001b[49m\u001b[38;5;241;43m=\u001b[39;49m\u001b[43mclient_info\u001b[49m\u001b[43m,\u001b[49m\n\u001b[1;32m    161\u001b[0m \u001b[43m    \u001b[49m\u001b[43malways_use_jwt_access\u001b[49m\u001b[38;5;241;43m=\u001b[39;49m\u001b[43malways_use_jwt_access\u001b[49m\u001b[43m,\u001b[49m\n\u001b[1;32m    162\u001b[0m \u001b[43m    \u001b[49m\u001b[43mapi_audience\u001b[49m\u001b[38;5;241;43m=\u001b[39;49m\u001b[43mapi_audience\u001b[49m\u001b[43m,\u001b[49m\n\u001b[1;32m    163\u001b[0m \u001b[43m\u001b[49m\u001b[43m)\u001b[49m\n\u001b[1;32m    165\u001b[0m \u001b[38;5;28;01mif\u001b[39;00m \u001b[38;5;129;01mnot\u001b[39;00m \u001b[38;5;28mself\u001b[39m\u001b[38;5;241m.\u001b[39m_grpc_channel:\n\u001b[1;32m    166\u001b[0m     \u001b[38;5;28mself\u001b[39m\u001b[38;5;241m.\u001b[39m_grpc_channel \u001b[38;5;241m=\u001b[39m \u001b[38;5;28mtype\u001b[39m(\u001b[38;5;28mself\u001b[39m)\u001b[38;5;241m.\u001b[39mcreate_channel(\n\u001b[1;32m    167\u001b[0m         \u001b[38;5;28mself\u001b[39m\u001b[38;5;241m.\u001b[39m_host,\n\u001b[1;32m    168\u001b[0m         \u001b[38;5;66;03m# use the credentials which are saved\u001b[39;00m\n\u001b[0;32m   (...)\u001b[0m\n\u001b[1;32m    179\u001b[0m         ],\n\u001b[1;32m    180\u001b[0m     )\n",
      "File \u001b[0;32m~/.pyenv/versions/3.10.6/lib/python3.10/site-packages/google/ai/generativelanguage_v1beta/services/model_service/transports/base.py:101\u001b[0m, in \u001b[0;36mModelServiceTransport.__init__\u001b[0;34m(self, host, credentials, credentials_file, scopes, quota_project_id, client_info, always_use_jwt_access, api_audience, **kwargs)\u001b[0m\n\u001b[1;32m     97\u001b[0m     credentials, _ \u001b[38;5;241m=\u001b[39m google\u001b[38;5;241m.\u001b[39mauth\u001b[38;5;241m.\u001b[39mload_credentials_from_file(\n\u001b[1;32m     98\u001b[0m         credentials_file, \u001b[38;5;241m*\u001b[39m\u001b[38;5;241m*\u001b[39mscopes_kwargs, quota_project_id\u001b[38;5;241m=\u001b[39mquota_project_id\n\u001b[1;32m     99\u001b[0m     )\n\u001b[1;32m    100\u001b[0m \u001b[38;5;28;01melif\u001b[39;00m credentials \u001b[38;5;129;01mis\u001b[39;00m \u001b[38;5;28;01mNone\u001b[39;00m:\n\u001b[0;32m--> 101\u001b[0m     credentials, _ \u001b[38;5;241m=\u001b[39m \u001b[43mgoogle\u001b[49m\u001b[38;5;241;43m.\u001b[39;49m\u001b[43mauth\u001b[49m\u001b[38;5;241;43m.\u001b[39;49m\u001b[43mdefault\u001b[49m\u001b[43m(\u001b[49m\n\u001b[1;32m    102\u001b[0m \u001b[43m        \u001b[49m\u001b[38;5;241;43m*\u001b[39;49m\u001b[38;5;241;43m*\u001b[39;49m\u001b[43mscopes_kwargs\u001b[49m\u001b[43m,\u001b[49m\u001b[43m \u001b[49m\u001b[43mquota_project_id\u001b[49m\u001b[38;5;241;43m=\u001b[39;49m\u001b[43mquota_project_id\u001b[49m\n\u001b[1;32m    103\u001b[0m \u001b[43m    \u001b[49m\u001b[43m)\u001b[49m\n\u001b[1;32m    104\u001b[0m     \u001b[38;5;66;03m# Don't apply audience if the credentials file passed from user.\u001b[39;00m\n\u001b[1;32m    105\u001b[0m     \u001b[38;5;28;01mif\u001b[39;00m \u001b[38;5;28mhasattr\u001b[39m(credentials, \u001b[38;5;124m\"\u001b[39m\u001b[38;5;124mwith_gdch_audience\u001b[39m\u001b[38;5;124m\"\u001b[39m):\n",
      "File \u001b[0;32m~/.pyenv/versions/3.10.6/lib/python3.10/site-packages/google/auth/_default.py:691\u001b[0m, in \u001b[0;36mdefault\u001b[0;34m(scopes, request, quota_project_id, default_scopes)\u001b[0m\n\u001b[1;32m    683\u001b[0m             _LOGGER\u001b[38;5;241m.\u001b[39mwarning(\n\u001b[1;32m    684\u001b[0m                 \u001b[38;5;124m\"\u001b[39m\u001b[38;5;124mNo project ID could be determined. Consider running \u001b[39m\u001b[38;5;124m\"\u001b[39m\n\u001b[1;32m    685\u001b[0m                 \u001b[38;5;124m\"\u001b[39m\u001b[38;5;124m`gcloud config set project` or setting the \u001b[39m\u001b[38;5;132;01m%s\u001b[39;00m\u001b[38;5;124m \u001b[39m\u001b[38;5;124m\"\u001b[39m\n\u001b[1;32m    686\u001b[0m                 \u001b[38;5;124m\"\u001b[39m\u001b[38;5;124menvironment variable\u001b[39m\u001b[38;5;124m\"\u001b[39m,\n\u001b[1;32m    687\u001b[0m                 environment_vars\u001b[38;5;241m.\u001b[39mPROJECT,\n\u001b[1;32m    688\u001b[0m             )\n\u001b[1;32m    689\u001b[0m         \u001b[38;5;28;01mreturn\u001b[39;00m credentials, effective_project_id\n\u001b[0;32m--> 691\u001b[0m \u001b[38;5;28;01mraise\u001b[39;00m exceptions\u001b[38;5;241m.\u001b[39mDefaultCredentialsError(_CLOUD_SDK_MISSING_CREDENTIALS)\n",
      "\u001b[0;31mDefaultCredentialsError\u001b[0m: Your default credentials were not found. To set up Application Default Credentials, see https://cloud.google.com/docs/authentication/external/set-up-adc for more information."
     ]
    }
   ],
   "source": [
    "#使用できるモデルを表示\n",
    "#for m in genai.list_models():\n",
    "\n",
    "    #if 'generateContent' in m.supported_generation_methods:\n",
    "     #   print(m.name)\n",
    "#使用できるモデルを表示\n",
    "for m in genai.list_models():\n",
    "  if 'generateContent' in m.supported_generation_methods:\n",
    "    print(m.name)"
   ]
  },
  {
   "cell_type": "code",
   "execution_count": 18,
   "metadata": {},
   "outputs": [
    {
     "name": "stdout",
     "output_type": "stream",
     "text": [
      "**オメガ3脂肪酸が豊富**\n",
      "\n",
      "* サーモン\n",
      "* マグロ\n",
      "* サバ\n",
      "* ニシン\n",
      "* イワシ\n",
      "* フラックスシード（亜麻仁）\n",
      "* チアシード\n",
      "* クルミ\n",
      "* アボカド\n",
      "* オリーブオイル\n",
      "\n",
      "**オメガ6脂肪酸が豊富**\n",
      "\n",
      "* 植物油（コーン油、大豆油、ヒマワリ油）\n",
      "* ナッツ（アーモンド、ピーカン、カシューナッツ）\n",
      "* 種子（ヒマワリの種、カボチャの種、ゴマ）\n",
      "* 鶏肉\n",
      "* 卵\n"
     ]
    }
   ],
   "source": [
    "#環境変数からAPIKEYの取得\n",
    "GOOGL_API_KEY=os.getenv('GOOGL_API_KEY')\n",
    "#geminiにKEYを設定\n",
    "genai.configure(api_key=GOOGL_API_KEY)\n",
    "#使用モデルを選択\n",
    "gemini_pro = genai.GenerativeModel(\"gemini-pro\")\n",
    "#プロンプト(質問）を設定\n",
    "prompt = \"必須脂肪酸が豊富な食材はなんですか？\"\n",
    "#回答を生成して表示\n",
    "response = gemini_pro.generate_content(prompt)\n",
    "print(response.text)\n",
    "\n",
    "\n",
    "#上記が一問一答式である、会話形式で設定したい（次のコード）"
   ]
  },
  {
   "cell_type": "code",
   "execution_count": 21,
   "metadata": {},
   "outputs": [
    {
     "name": "stdout",
     "output_type": "stream",
     "text": [
      "富士山\n",
      "--------------------------------------------------\n",
      "山梨県・静岡県\n"
     ]
    }
   ],
   "source": [
    "#モデルを選択\n",
    "model = genai.GenerativeModel(\"gemini-pro\")\n",
    "#対話形式で\n",
    "chat = model.start_chat()\n",
    "#１回目の質問\n",
    "response = chat.send_message('日本一高い山はなんですか？')\n",
    "#１回目の返答（テキストは答えだけを持ってくる）\n",
    "print(response.text)\n",
    "#わかりやすいように区切り線\n",
    "print(\"-\"* 50)\n",
    "#２回目の質問\n",
    "response = chat.send_message('それは何県ありますか？')\n",
    "#２回目の返答\n",
    "print(response.text)\n",
    "\n",
    "#大規模言語モデルが得意な３つ#対話#翻訳#要約"
   ]
  },
  {
   "cell_type": "code",
   "execution_count": 30,
   "metadata": {},
   "outputs": [
    {
     "name": "stdout",
     "output_type": "stream",
     "text": [
      " 3760,7208,1375,9170,6335,5983,3075,7069,9828,5941,4976,7218,9378,1866,9900,2599,9887,3563,5191,2735,6246,6419\n"
     ]
    }
   ],
   "source": [
    "from pathlib import Path\n",
    "#画像を扱うモデル\n",
    "model = genai.GenerativeModel('gemini-pro-vision')\n",
    "#解析したい画像を指定\n",
    "picture = [{\n",
    "    'mime_type': 'image/jpeg',\n",
    "    'data': Path('IMG_7531.JPG').read_bytes()\n",
    "}]\n",
    "#画像に対して何をしたいか指示\n",
    "prompt = \"写真の中の４桁の数字をCSVで出力してください\"\n",
    "#モデルに問い合わせる\n",
    "response = model.generate_content(\n",
    "    contents=[prompt, picture[0]]\n",
    ")\n",
    "\n",
    "#結果表示\n",
    "print(response.text)\n"
   ]
  },
  {
   "cell_type": "code",
   "execution_count": 31,
   "metadata": {},
   "outputs": [
    {
     "name": "stdout",
     "output_type": "stream",
     "text": [
      " コード,会社名\n",
      "5847,グリーンツ\n",
      "6548,かわぐちFG\n",
      "4767,TOW\n",
      "2001,ＴＯＷ\n",
      "5660,ハークスレイ\n",
      "2902,日本テクノス\n",
      "1443,技術HLD\n",
      "6044,三機サービス\n",
      "3513,アイワ\n",
      "9629,Ｔ＆Ｋ\n",
      "4636,TOKU\n",
      "5971,リブワーク\n",
      "8613,共和工業\n",
      "4617,日本証券KSK\n",
      "3382,日興證券\n",
      "6382,リビング保証\n",
      "9438,サダテックHLD\n",
      "3544,大東亜\n",
      "9008,日本電装\n",
      "9705,西武HD\n",
      "8554,IMV\n",
      "2917,大森工業\n",
      "7760,太陽生命\n",
      "1844,ニチイ\n",
      "4218,ダイトー\n",
      "6245,タカラバイオ\n",
      "2750,ダイドー\n",
      "8704,トラストHD\n",
      "5122,日立建機\n",
      "6325,ダイクレ\n",
      "7643,大阪商事\n",
      "5261,ＦＪネクストＨ\n",
      "8935,三愛UFG\n",
      "2226,兼松電機\n",
      "7888,アイスタイル\n",
      "3660,アビランス\n"
     ]
    }
   ],
   "source": [
    "from pathlib import Path\n",
    "#画像を扱うモデル\n",
    "model = genai.GenerativeModel('gemini-pro-vision')\n",
    "#解析したい画像を指定\n",
    "picture = [{\n",
    "    'mime_type': 'image/jpeg',\n",
    "    'data': Path('IMG_7533.JPG').read_bytes()\n",
    "}]\n",
    "#画像に対して何をしたいか指示\n",
    "prompt = \"写真の中の４桁の数字をCSVで出力してください\"\n",
    "#モデルに問い合わせる\n",
    "response = model.generate_content(\n",
    "    contents=[prompt, picture[0]]\n",
    ")\n",
    "\n",
    "#結果表示\n",
    "print(response.text)"
   ]
  },
  {
   "cell_type": "code",
   "execution_count": 35,
   "metadata": {},
   "outputs": [
    {
     "name": "stdout",
     "output_type": "stream",
     "text": [
      "Collecting TA-Lib\n",
      "  Using cached TA-Lib-0.4.28.tar.gz (357 kB)\n",
      "  Installing build dependencies ... \u001b[?25ldone\n",
      "\u001b[?25h  Getting requirements to build wheel ... \u001b[?25ldone\n",
      "\u001b[?25h  Installing backend dependencies ... \u001b[?25ldone\n",
      "\u001b[?25h  Preparing metadata (pyproject.toml) ... \u001b[?25ldone\n",
      "\u001b[?25hRequirement already satisfied: numpy in /Users/kawasakiarisa/.pyenv/versions/3.10.6/lib/python3.10/site-packages (from TA-Lib) (1.26.0)\n",
      "Building wheels for collected packages: TA-Lib\n",
      "  Building wheel for TA-Lib (pyproject.toml) ... \u001b[?25lerror\n",
      "  \u001b[1;31merror\u001b[0m: \u001b[1msubprocess-exited-with-error\u001b[0m\n",
      "  \n",
      "  \u001b[31m×\u001b[0m \u001b[32mBuilding wheel for TA-Lib \u001b[0m\u001b[1;32m(\u001b[0m\u001b[32mpyproject.toml\u001b[0m\u001b[1;32m)\u001b[0m did not run successfully.\n",
      "  \u001b[31m│\u001b[0m exit code: \u001b[1;36m1\u001b[0m\n",
      "  \u001b[31m╰─>\u001b[0m \u001b[31m[74 lines of output]\u001b[0m\n",
      "  \u001b[31m   \u001b[0m running bdist_wheel\n",
      "  \u001b[31m   \u001b[0m running build\n",
      "  \u001b[31m   \u001b[0m running build_py\n",
      "  \u001b[31m   \u001b[0m creating build\n",
      "  \u001b[31m   \u001b[0m creating build/lib.macosx-12.6-x86_64-cpython-310\n",
      "  \u001b[31m   \u001b[0m creating build/lib.macosx-12.6-x86_64-cpython-310/talib\n",
      "  \u001b[31m   \u001b[0m copying talib/abstract.py -> build/lib.macosx-12.6-x86_64-cpython-310/talib\n",
      "  \u001b[31m   \u001b[0m copying talib/deprecated.py -> build/lib.macosx-12.6-x86_64-cpython-310/talib\n",
      "  \u001b[31m   \u001b[0m copying talib/__init__.py -> build/lib.macosx-12.6-x86_64-cpython-310/talib\n",
      "  \u001b[31m   \u001b[0m copying talib/stream.py -> build/lib.macosx-12.6-x86_64-cpython-310/talib\n",
      "  \u001b[31m   \u001b[0m running build_ext\n",
      "  \u001b[31m   \u001b[0m building 'talib._ta_lib' extension\n",
      "  \u001b[31m   \u001b[0m creating build/temp.macosx-12.6-x86_64-cpython-310\n",
      "  \u001b[31m   \u001b[0m creating build/temp.macosx-12.6-x86_64-cpython-310/talib\n",
      "  \u001b[31m   \u001b[0m x86_64-apple-darwin13.4.0-clang -Wno-unused-result -Wsign-compare -Wunreachable-code -DNDEBUG -g -fwrapv -O3 -Wall -I/Library/Developer/CommandLineTools/SDKs/MacOSX.sdk/usr/include -I/Library/Developer/CommandLineTools/SDKs/MacOSX.sdk/usr/include -march=core2 -mtune=haswell -mssse3 -ftree-vectorize -fPIC -fPIE -fstack-protector-strong -O2 -pipe -isystem /Users/kawasakiarisa/opt/anaconda3/include -D_FORTIFY_SOURCE=2 -mmacosx-version-min=10.9 -isystem /Users/kawasakiarisa/opt/anaconda3/include -I/usr/include -I/usr/local/include -I/opt/include -I/opt/local/include -I/opt/homebrew/include -I/opt/homebrew/opt/ta-lib/include -I/private/var/folders/xy/v4k38k8121n12zj_qtpv67_m0000gn/T/pip-build-env-5wdtejcb/normal/lib/python3.10/site-packages/numpy/core/include -I/Users/kawasakiarisa/.pyenv/versions/3.10.6/include/python3.10 -c talib/_ta_lib.c -o build/temp.macosx-12.6-x86_64-cpython-310/talib/_ta_lib.o\n",
      "  \u001b[31m   \u001b[0m In file included from talib/_ta_lib.c:1092:\n",
      "  \u001b[31m   \u001b[0m In file included from /private/var/folders/xy/v4k38k8121n12zj_qtpv67_m0000gn/T/pip-build-env-5wdtejcb/normal/lib/python3.10/site-packages/numpy/core/include/numpy/arrayobject.h:5:\n",
      "  \u001b[31m   \u001b[0m In file included from /private/var/folders/xy/v4k38k8121n12zj_qtpv67_m0000gn/T/pip-build-env-5wdtejcb/normal/lib/python3.10/site-packages/numpy/core/include/numpy/ndarrayobject.h:12:\n",
      "  \u001b[31m   \u001b[0m In file included from /private/var/folders/xy/v4k38k8121n12zj_qtpv67_m0000gn/T/pip-build-env-5wdtejcb/normal/lib/python3.10/site-packages/numpy/core/include/numpy/ndarraytypes.h:1929:\n",
      "  \u001b[31m   \u001b[0m /private/var/folders/xy/v4k38k8121n12zj_qtpv67_m0000gn/T/pip-build-env-5wdtejcb/normal/lib/python3.10/site-packages/numpy/core/include/numpy/npy_1_7_deprecated_api.h:17:2: warning: \"Using deprecated NumPy API, disable it with \"          \"#define NPY_NO_DEPRECATED_API NPY_1_7_API_VERSION\" [-W#warnings]\n",
      "  \u001b[31m   \u001b[0m #warning \"Using deprecated NumPy API, disable it with \" \\\n",
      "  \u001b[31m   \u001b[0m  ^\n",
      "  \u001b[31m   \u001b[0m talib/_ta_lib.c:48215:20: warning: equality comparison with extraneous parentheses [-Wparentheses-equality]\n",
      "  \u001b[31m   \u001b[0m     if ((__pyx_t_7 == 1)) {\n",
      "  \u001b[31m   \u001b[0m          ~~~~~~~~~~^~~~\n",
      "  \u001b[31m   \u001b[0m talib/_ta_lib.c:48215:20: note: remove extraneous parentheses around the comparison to silence this warning\n",
      "  \u001b[31m   \u001b[0m     if ((__pyx_t_7 == 1)) {\n",
      "  \u001b[31m   \u001b[0m         ~          ^   ~\n",
      "  \u001b[31m   \u001b[0m talib/_ta_lib.c:48215:20: note: use '=' to turn this equality comparison into an assignment\n",
      "  \u001b[31m   \u001b[0m     if ((__pyx_t_7 == 1)) {\n",
      "  \u001b[31m   \u001b[0m                    ^~\n",
      "  \u001b[31m   \u001b[0m                    =\n",
      "  \u001b[31m   \u001b[0m talib/_ta_lib.c:51556:47: warning: passing 'TA_FuncInfo **' (aka 'struct TA_FuncInfo **') to parameter of type 'const TA_FuncInfo **' (aka 'const struct TA_FuncInfo **') discards qualifiers in nested pointer types [-Wincompatible-pointer-types-discards-qualifiers]\n",
      "  \u001b[31m   \u001b[0m   __pyx_v_retCode = TA_GetFuncInfo(__pyx_t_1, (&__pyx_v_info));\n",
      "  \u001b[31m   \u001b[0m                                               ^~~~~~~~~~~~~~~\n",
      "  \u001b[31m   \u001b[0m /usr/local/include/ta-lib/ta_abstract.h:211:48: note: passing argument to parameter 'funcInfo' here\n",
      "  \u001b[31m   \u001b[0m                            const TA_FuncInfo **funcInfo );\n",
      "  \u001b[31m   \u001b[0m                                                ^\n",
      "  \u001b[31m   \u001b[0m talib/_ta_lib.c:51832:70: warning: passing 'TA_InputParameterInfo **' (aka 'struct TA_InputParameterInfo **') to parameter of type 'const TA_InputParameterInfo **' (aka 'const struct TA_InputParameterInfo **') discards qualifiers in nested pointer types [-Wincompatible-pointer-types-discards-qualifiers]\n",
      "  \u001b[31m   \u001b[0m   __pyx_v_retCode = TA_GetInputParameterInfo(__pyx_t_1, __pyx_v_idx, (&__pyx_v_info));\n",
      "  \u001b[31m   \u001b[0m                                                                      ^~~~~~~~~~~~~~~\n",
      "  \u001b[31m   \u001b[0m /usr/local/include/ta-lib/ta_abstract.h:442:68: note: passing argument to parameter 'info' here\n",
      "  \u001b[31m   \u001b[0m                                      const TA_InputParameterInfo **info );\n",
      "  \u001b[31m   \u001b[0m                                                                    ^\n",
      "  \u001b[31m   \u001b[0m talib/_ta_lib.c:52084:73: warning: passing 'TA_OptInputParameterInfo **' (aka 'struct TA_OptInputParameterInfo **') to parameter of type 'const TA_OptInputParameterInfo **' (aka 'const struct TA_OptInputParameterInfo **') discards qualifiers in nested pointer types [-Wincompatible-pointer-types-discards-qualifiers]\n",
      "  \u001b[31m   \u001b[0m   __pyx_v_retCode = TA_GetOptInputParameterInfo(__pyx_t_1, __pyx_v_idx, (&__pyx_v_info));\n",
      "  \u001b[31m   \u001b[0m                                                                         ^~~~~~~~~~~~~~~\n",
      "  \u001b[31m   \u001b[0m /usr/local/include/ta-lib/ta_abstract.h:446:74: note: passing argument to parameter 'info' here\n",
      "  \u001b[31m   \u001b[0m                                         const TA_OptInputParameterInfo **info );\n",
      "  \u001b[31m   \u001b[0m                                                                          ^\n",
      "  \u001b[31m   \u001b[0m talib/_ta_lib.c:52374:71: warning: passing 'TA_OutputParameterInfo **' (aka 'struct TA_OutputParameterInfo **') to parameter of type 'const TA_OutputParameterInfo **' (aka 'const struct TA_OutputParameterInfo **') discards qualifiers in nested pointer types [-Wincompatible-pointer-types-discards-qualifiers]\n",
      "  \u001b[31m   \u001b[0m   __pyx_v_retCode = TA_GetOutputParameterInfo(__pyx_t_1, __pyx_v_idx, (&__pyx_v_info));\n",
      "  \u001b[31m   \u001b[0m                                                                       ^~~~~~~~~~~~~~~\n",
      "  \u001b[31m   \u001b[0m /usr/local/include/ta-lib/ta_abstract.h:450:70: note: passing argument to parameter 'info' here\n",
      "  \u001b[31m   \u001b[0m                                       const TA_OutputParameterInfo **info );\n",
      "  \u001b[31m   \u001b[0m                                                                      ^\n",
      "  \u001b[31m   \u001b[0m talib/_ta_lib.c:53011:125: warning: passing 'TA_FuncHandle **' (aka 'unsigned int **') to parameter of type 'const TA_FuncHandle **' (aka 'const unsigned int **') discards qualifiers in nested pointer types [-Wincompatible-pointer-types-discards-qualifiers]\n",
      "  \u001b[31m   \u001b[0m   __pyx_t_1 = __pyx_f_5talib_7_ta_lib__ta_check_success(__pyx_n_s_TA_GetFuncHandle, TA_GetFuncHandle(__pyx_v_function_name, (&__pyx_v_handle)), 0); if (unlikely(!__pyx_t_1)) __PYX_ERR(1, 772, __pyx_L1_error)\n",
      "  \u001b[31m   \u001b[0m                                                                                                                             ^~~~~~~~~~~~~~~~~\n",
      "  \u001b[31m   \u001b[0m /usr/local/include/ta-lib/ta_abstract.h:155:52: note: passing argument to parameter 'handle' here\n",
      "  \u001b[31m   \u001b[0m                              const TA_FuncHandle **handle );\n",
      "  \u001b[31m   \u001b[0m                                                    ^\n",
      "  \u001b[31m   \u001b[0m 7 warnings generated.\n",
      "  \u001b[31m   \u001b[0m x86_64-apple-darwin13.4.0-clang -bundle -undefined dynamic_lookup -L/usr/local/opt/readline/lib -L/usr/local/opt/readline/lib -L/Users/kawasakiarisa/.pyenv/versions/3.10.6/lib -Wl,-rpath,/Users/kawasakiarisa/.pyenv/versions/3.10.6/lib -L/Library/Developer/CommandLineTools/SDKs/MacOSX.sdk/usr/lib -L/usr/local/opt/readline/lib -L/usr/local/opt/readline/lib -L/Users/kawasakiarisa/.pyenv/versions/3.10.6/lib -Wl,-rpath,/Users/kawasakiarisa/.pyenv/versions/3.10.6/lib -L/Library/Developer/CommandLineTools/SDKs/MacOSX.sdk/usr/lib -Wl,-pie -Wl,-headerpad_max_install_names -Wl,-dead_strip_dylibs -Wl,-rpath,/Users/kawasakiarisa/opt/anaconda3/lib -L/Users/kawasakiarisa/opt/anaconda3/lib -march=core2 -mtune=haswell -mssse3 -ftree-vectorize -fPIC -fPIE -fstack-protector-strong -O2 -pipe -isystem /Users/kawasakiarisa/opt/anaconda3/include -D_FORTIFY_SOURCE=2 -mmacosx-version-min=10.9 -isystem /Users/kawasakiarisa/opt/anaconda3/include build/temp.macosx-12.6-x86_64-cpython-310/talib/_ta_lib.o -L/usr/lib -L/usr/local/lib -L/usr/lib64 -L/usr/local/lib64 -L/opt/lib -L/opt/local/lib -L/opt/homebrew/lib -L/opt/homebrew/opt/ta-lib/lib -L/Users/kawasakiarisa/.pyenv/versions/3.10.6/lib -Wl,-rpath,/usr/lib -Wl,-rpath,/usr/local/lib -Wl,-rpath,/usr/lib64 -Wl,-rpath,/usr/local/lib64 -Wl,-rpath,/opt/lib -Wl,-rpath,/opt/local/lib -Wl,-rpath,/opt/homebrew/lib -Wl,-rpath,/opt/homebrew/opt/ta-lib/lib -lta_lib -o build/lib.macosx-12.6-x86_64-cpython-310/talib/_ta_lib.cpython-310-darwin.so\n",
      "  \u001b[31m   \u001b[0m ld: warning: directory not found for option '-L/usr/lib64'\n",
      "  \u001b[31m   \u001b[0m ld: warning: directory not found for option '-L/usr/local/lib64'\n",
      "  \u001b[31m   \u001b[0m ld: warning: directory not found for option '-L/opt/lib'\n",
      "  \u001b[31m   \u001b[0m ld: warning: directory not found for option '-L/opt/local/lib'\n",
      "  \u001b[31m   \u001b[0m ld: warning: directory not found for option '-L/opt/homebrew/lib'\n",
      "  \u001b[31m   \u001b[0m ld: warning: directory not found for option '-L/opt/homebrew/opt/ta-lib/lib'\n",
      "  \u001b[31m   \u001b[0m ld: warning: -pie being ignored. It is only used when linking a main executable\n",
      "  \u001b[31m   \u001b[0m ld: unsupported tapi file type '!tapi-tbd' in YAML file '/Library/Developer/CommandLineTools/SDKs/MacOSX.sdk/usr/lib/libSystem.tbd' for architecture x86_64\n",
      "  \u001b[31m   \u001b[0m clang-10: error: linker command failed with exit code 1 (use -v to see invocation)\n",
      "  \u001b[31m   \u001b[0m error: command '/Users/kawasakiarisa/opt/anaconda3/bin/x86_64-apple-darwin13.4.0-clang' failed with exit code 1\n",
      "  \u001b[31m   \u001b[0m \u001b[31m[end of output]\u001b[0m\n",
      "  \n",
      "  \u001b[1;35mnote\u001b[0m: This error originates from a subprocess, and is likely not a problem with pip.\n",
      "\u001b[?25h\u001b[31m  ERROR: Failed building wheel for TA-Lib\u001b[0m\u001b[31m\n",
      "\u001b[0mFailed to build TA-Lib\n",
      "\u001b[31mERROR: Could not build wheels for TA-Lib, which is required to install pyproject.toml-based projects\u001b[0m\u001b[31m\n",
      "\u001b[0m"
     ]
    }
   ],
   "source": [
    "#!pip3 install TA-Lib"
   ]
  },
  {
   "cell_type": "code",
   "execution_count": 36,
   "metadata": {},
   "outputs": [
    {
     "ename": "ModuleNotFoundError",
     "evalue": "No module named 'talib'",
     "output_type": "error",
     "traceback": [
      "\u001b[0;31m---------------------------------------------------------------------------\u001b[0m",
      "\u001b[0;31mModuleNotFoundError\u001b[0m                       Traceback (most recent call last)",
      "Cell \u001b[0;32mIn[36], line 1\u001b[0m\n\u001b[0;32m----> 1\u001b[0m \u001b[38;5;28;01mimport\u001b[39;00m \u001b[38;5;21;01mtalib\u001b[39;00m \u001b[38;5;28;01mas\u001b[39;00m \u001b[38;5;21;01mta\u001b[39;00m\n\u001b[1;32m      2\u001b[0m \u001b[38;5;28;01mimport\u001b[39;00m \u001b[38;5;21;01myfinance\u001b[39;00m \u001b[38;5;28;01mas\u001b[39;00m \u001b[38;5;21;01myf\u001b[39;00m\n\u001b[1;32m      3\u001b[0m \u001b[38;5;28;01mimport\u001b[39;00m \u001b[38;5;21;01mmplfinance\u001b[39;00m \u001b[38;5;28;01mas\u001b[39;00m \u001b[38;5;21;01mmpf\u001b[39;00m\n",
      "\u001b[0;31mModuleNotFoundError\u001b[0m: No module named 'talib'"
     ]
    }
   ],
   "source": [
    "\n"
   ]
  },
  {
   "cell_type": "code",
   "execution_count": null,
   "metadata": {},
   "outputs": [],
   "source": []
  }
 ],
 "metadata": {
  "kernelspec": {
   "display_name": "Python 3",
   "language": "python",
   "name": "python3"
  },
  "language_info": {
   "codemirror_mode": {
    "name": "ipython",
    "version": 3
   },
   "file_extension": ".py",
   "mimetype": "text/x-python",
   "name": "python",
   "nbconvert_exporter": "python",
   "pygments_lexer": "ipython3",
   "version": "3.10.6"
  }
 },
 "nbformat": 4,
 "nbformat_minor": 2
}
