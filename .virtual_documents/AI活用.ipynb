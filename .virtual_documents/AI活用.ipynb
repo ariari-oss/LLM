!pip install google-generativeai


!pip install python-dotenv



import os 

from dotenv import load_dotenv

import google.generativeai as genai




!python --version



