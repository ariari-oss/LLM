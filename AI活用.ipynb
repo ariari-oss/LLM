{
 "cells": [
  {
   "cell_type": "code",
   "execution_count": 6,
   "id": "b6fc24ed-a3b0-432c-9494-19827c472ab6",
   "metadata": {},
   "outputs": [
    {
     "name": "stdout",
     "output_type": "stream",
     "text": [
      "Requirement already satisfied: google-generativeai in /Users/kawasakiarisa/.pyenv/versions/3.10.6/lib/python3.10/site-packages (0.4.1)\n",
      "Requirement already satisfied: google-ai-generativelanguage==0.4.0 in /Users/kawasakiarisa/.pyenv/versions/3.10.6/lib/python3.10/site-packages (from google-generativeai) (0.4.0)\n",
      "Requirement already satisfied: google-auth>=2.15.0 in /Users/kawasakiarisa/.pyenv/versions/3.10.6/lib/python3.10/site-packages (from google-generativeai) (2.28.2)\n",
      "Requirement already satisfied: google-api-core in /Users/kawasakiarisa/.pyenv/versions/3.10.6/lib/python3.10/site-packages (from google-generativeai) (2.17.1)\n",
      "Requirement already satisfied: protobuf in /Users/kawasakiarisa/.pyenv/versions/3.10.6/lib/python3.10/site-packages (from google-generativeai) (4.24.4)\n",
      "Requirement already satisfied: pydantic in /Users/kawasakiarisa/.pyenv/versions/3.10.6/lib/python3.10/site-packages (from google-generativeai) (2.6.1)\n",
      "Requirement already satisfied: tqdm in /Users/kawasakiarisa/.pyenv/versions/3.10.6/lib/python3.10/site-packages (from google-generativeai) (4.66.1)\n",
      "Requirement already satisfied: typing-extensions in /Users/kawasakiarisa/.pyenv/versions/3.10.6/lib/python3.10/site-packages (from google-generativeai) (4.8.0)\n",
      "Requirement already satisfied: proto-plus<2.0.0dev,>=1.22.3 in /Users/kawasakiarisa/.pyenv/versions/3.10.6/lib/python3.10/site-packages (from google-ai-generativelanguage==0.4.0->google-generativeai) (1.23.0)\n",
      "Requirement already satisfied: googleapis-common-protos<2.0.dev0,>=1.56.2 in /Users/kawasakiarisa/.pyenv/versions/3.10.6/lib/python3.10/site-packages (from google-api-core->google-generativeai) (1.63.0)\n",
      "Requirement already satisfied: requests<3.0.0.dev0,>=2.18.0 in /Users/kawasakiarisa/.pyenv/versions/3.10.6/lib/python3.10/site-packages (from google-api-core->google-generativeai) (2.31.0)\n",
      "Requirement already satisfied: cachetools<6.0,>=2.0.0 in /Users/kawasakiarisa/.pyenv/versions/3.10.6/lib/python3.10/site-packages (from google-auth>=2.15.0->google-generativeai) (5.3.1)\n",
      "Requirement already satisfied: pyasn1-modules>=0.2.1 in /Users/kawasakiarisa/.pyenv/versions/3.10.6/lib/python3.10/site-packages (from google-auth>=2.15.0->google-generativeai) (0.3.0)\n",
      "Requirement already satisfied: rsa<5,>=3.1.4 in /Users/kawasakiarisa/.pyenv/versions/3.10.6/lib/python3.10/site-packages (from google-auth>=2.15.0->google-generativeai) (4.9)\n",
      "Requirement already satisfied: annotated-types>=0.4.0 in /Users/kawasakiarisa/.pyenv/versions/3.10.6/lib/python3.10/site-packages (from pydantic->google-generativeai) (0.6.0)\n",
      "Requirement already satisfied: pydantic-core==2.16.2 in /Users/kawasakiarisa/.pyenv/versions/3.10.6/lib/python3.10/site-packages (from pydantic->google-generativeai) (2.16.2)\n",
      "Requirement already satisfied: grpcio<2.0dev,>=1.33.2 in /Users/kawasakiarisa/.pyenv/versions/3.10.6/lib/python3.10/site-packages (from google-api-core[grpc]!=2.0.*,!=2.1.*,!=2.10.*,!=2.2.*,!=2.3.*,!=2.4.*,!=2.5.*,!=2.6.*,!=2.7.*,!=2.8.*,!=2.9.*,<3.0.0dev,>=1.34.0->google-ai-generativelanguage==0.4.0->google-generativeai) (1.62.1)\n",
      "Requirement already satisfied: grpcio-status<2.0.dev0,>=1.33.2 in /Users/kawasakiarisa/.pyenv/versions/3.10.6/lib/python3.10/site-packages (from google-api-core[grpc]!=2.0.*,!=2.1.*,!=2.10.*,!=2.2.*,!=2.3.*,!=2.4.*,!=2.5.*,!=2.6.*,!=2.7.*,!=2.8.*,!=2.9.*,<3.0.0dev,>=1.34.0->google-ai-generativelanguage==0.4.0->google-generativeai) (1.62.1)\n",
      "Requirement already satisfied: pyasn1<0.6.0,>=0.4.6 in /Users/kawasakiarisa/.pyenv/versions/3.10.6/lib/python3.10/site-packages (from pyasn1-modules>=0.2.1->google-auth>=2.15.0->google-generativeai) (0.5.1)\n",
      "Requirement already satisfied: charset-normalizer<4,>=2 in /Users/kawasakiarisa/.pyenv/versions/3.10.6/lib/python3.10/site-packages (from requests<3.0.0.dev0,>=2.18.0->google-api-core->google-generativeai) (3.3.0)\n",
      "Requirement already satisfied: idna<4,>=2.5 in /Users/kawasakiarisa/.pyenv/versions/3.10.6/lib/python3.10/site-packages (from requests<3.0.0.dev0,>=2.18.0->google-api-core->google-generativeai) (3.4)\n",
      "Requirement already satisfied: urllib3<3,>=1.21.1 in /Users/kawasakiarisa/.pyenv/versions/3.10.6/lib/python3.10/site-packages (from requests<3.0.0.dev0,>=2.18.0->google-api-core->google-generativeai) (2.0.6)\n",
      "Requirement already satisfied: certifi>=2017.4.17 in /Users/kawasakiarisa/.pyenv/versions/3.10.6/lib/python3.10/site-packages (from requests<3.0.0.dev0,>=2.18.0->google-api-core->google-generativeai) (2023.7.22)\n"
     ]
    }
   ],
   "source": [
    "!pip install google-generativeai"
   ]
  },
  {
   "cell_type": "code",
   "execution_count": 2,
   "id": "0c0577fe-0f94-4a97-9c5b-00397c498efd",
   "metadata": {},
   "outputs": [
    {
     "name": "stdout",
     "output_type": "stream",
     "text": [
      "Collecting python-dotenv\n",
      "  Downloading python_dotenv-1.0.1-py3-none-any.whl.metadata (23 kB)\n",
      "Downloading python_dotenv-1.0.1-py3-none-any.whl (19 kB)\n",
      "Installing collected packages: python-dotenv\n",
      "Successfully installed python-dotenv-1.0.1\n"
     ]
    }
   ],
   "source": [
    "!pip install python-dotenv\n"
   ]
  },
  {
   "cell_type": "code",
   "execution_count": null,
   "id": "1b3072e0-a049-4c1b-b441-bb88cf050c62",
   "metadata": {},
   "outputs": [],
   "source": [
    "import os \n",
    "\n",
    "from dotenv import load_dotenv\n",
    "\n",
    "import google.generativeai as genai\n",
    "\n"
   ]
  },
  {
   "cell_type": "code",
   "execution_count": 5,
   "id": "5e723b8d-72d3-4222-86bd-8ff6c28566e7",
   "metadata": {},
   "outputs": [
    {
     "name": "stdout",
     "output_type": "stream",
     "text": [
      "Python 3.10.6\n"
     ]
    }
   ],
   "source": [
    "!python --version"
   ]
  },
  {
   "cell_type": "code",
   "execution_count": null,
   "id": "3cd45f6f-3384-46e9-9270-81531632801c",
   "metadata": {},
   "outputs": [],
   "source": []
  }
 ],
 "metadata": {
  "kernelspec": {
   "display_name": "Python 3 (ipykernel)",
   "language": "python",
   "name": "python3"
  },
  "language_info": {
   "codemirror_mode": {
    "name": "ipython",
    "version": 3
   },
   "file_extension": ".py",
   "mimetype": "text/x-python",
   "name": "python",
   "nbconvert_exporter": "python",
   "pygments_lexer": "ipython3",
   "version": "3.11.7"
  }
 },
 "nbformat": 4,
 "nbformat_minor": 5
}
